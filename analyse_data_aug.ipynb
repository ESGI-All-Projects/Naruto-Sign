{
 "cells": [
  {
   "cell_type": "code",
   "execution_count": 8,
   "id": "initial_id",
   "metadata": {
    "collapsed": true,
    "ExecuteTime": {
     "end_time": "2023-12-06T09:46:08.976554400Z",
     "start_time": "2023-12-06T09:46:08.965123500Z"
    }
   },
   "outputs": [],
   "source": [
    "import numpy as np\n",
    "\n",
    "import os\n",
    "from tensorflow.keras.preprocessing.image import ImageDataGenerator, img_to_array, load_img\n",
    "from PIL import Image\n",
    "\n"
   ]
  },
  {
   "cell_type": "markdown",
   "source": [
    " ### init path"
   ],
   "metadata": {
    "collapsed": false
   },
   "id": "5abcbfe174a3d068"
  },
  {
   "cell_type": "code",
   "execution_count": 9,
   "outputs": [],
   "source": [
    "# Paramètres de base\n",
    "base_dir = 'data'\n",
    "train_dir = os.path.join(base_dir, 'raw_data/train')\n",
    "test_dir = os.path.join(base_dir, 'raw_data/test')\n",
    "processed_dir = os.path.join(base_dir, 'processed')\n",
    "augmented_dir = os.path.join(base_dir, 'processed_data_aug')\n",
    "target_size = (224, 224)\n",
    "\n"
   ],
   "metadata": {
    "collapsed": false,
    "ExecuteTime": {
     "end_time": "2023-12-06T09:46:09.781296200Z",
     "start_time": "2023-12-06T09:46:09.781296200Z"
    }
   },
   "id": "d0e7c124d6e851f1"
  },
  {
   "cell_type": "markdown",
   "source": [
    " ### Create resize file and save as PNY"
   ],
   "metadata": {
    "collapsed": false
   },
   "id": "8d5b693ef015ac26"
  },
  {
   "cell_type": "code",
   "execution_count": 10,
   "outputs": [],
   "source": [
    "# Fonction pour redimensionner et sauvegarder les images dans le dossier processed\n",
    "def resize_and_save_images(source_dir, processed_base):\n",
    "    for category in os.listdir(source_dir):\n",
    "        category_dir = os.path.join(source_dir, category)\n",
    "        processed_category_dir = os.path.join(processed_base, os.path.basename(source_dir), category)\n",
    "        os.makedirs(processed_category_dir, exist_ok=True)\n",
    "\n",
    "        for file in os.listdir(category_dir):\n",
    "            if file.lower().endswith(('.png', '.jpg', '.jpeg')):  # Ajoutez ou retirez des formats selon les besoins\n",
    "                img_path = os.path.join(category_dir, file)\n",
    "                img = load_img(img_path, target_size=target_size)\n",
    "                img_array = img_to_array(img)\n",
    "                file_name, _ = os.path.splitext(file)\n",
    "                np.save(os.path.join(processed_category_dir, file_name), img_array)\n",
    "                \n"
   ],
   "metadata": {
    "collapsed": false,
    "ExecuteTime": {
     "end_time": "2023-12-06T09:46:15.956677Z",
     "start_time": "2023-12-06T09:46:15.945991200Z"
    }
   },
   "id": "7a728387e40dc0d4"
  },
  {
   "cell_type": "code",
   "execution_count": 11,
   "outputs": [],
   "source": [
    "resize_and_save_images(train_dir, processed_dir)\n",
    "resize_and_save_images(test_dir, processed_dir)"
   ],
   "metadata": {
    "collapsed": false,
    "ExecuteTime": {
     "end_time": "2023-12-06T09:47:04.702846400Z",
     "start_time": "2023-12-06T09:46:17.208086100Z"
    }
   },
   "id": "87394c371c9cf150"
  },
  {
   "cell_type": "markdown",
   "source": [
    " "
   ],
   "metadata": {
    "collapsed": false
   },
   "id": "c2285d6364198b9"
  },
  {
   "cell_type": "markdown",
   "source": [
    "# DATA aug\n",
    "\n",
    "Test dat aug on few files and adapt params"
   ],
   "metadata": {
    "collapsed": false
   },
   "id": "f0976158a911fee3"
  },
  {
   "cell_type": "code",
   "execution_count": 5,
   "outputs": [],
   "source": [
    "# Paramètres de data augmentation\n",
    "datagen = ImageDataGenerator(\n",
    "    width_shift_range=0.1,\n",
    "    height_shift_range=0.1,\n",
    "    zoom_range=0.15,\n",
    "    brightness_range=[0.7, 1.3]\n",
    ")\n"
   ],
   "metadata": {
    "collapsed": false,
    "ExecuteTime": {
     "end_time": "2023-12-06T09:06:21.770295900Z",
     "start_time": "2023-12-06T09:06:21.761939100Z"
    }
   },
   "id": "66b2001c178f9ee8"
  },
  {
   "cell_type": "code",
   "execution_count": 6,
   "outputs": [],
   "source": [
    "# Fonction pour convertir un tableau numpy en image et le sauvegarder au format JPG\n",
    "def save_array_as_jpg(array, file_path):\n",
    "    image = Image.fromarray(array.astype('uint8'), 'RGB')\n",
    "    image.save(file_path)\n",
    "\n",
    "# Fonction pour appliquer la data augmentation sur des fichiers spécifiques et sauvegarder les images augmentées en tant que JPG\n",
    "def augment_specific_files_as_jpg(file_paths, augmented_base, num_augmentations=20):\n",
    "    for file_path in file_paths:\n",
    "        img_array = np.load(file_path)\n",
    "        img_array = img_array.reshape((1,) + img_array.shape)\n",
    "\n",
    "        # Dossier pour sauvegarder les images augmentées\n",
    "        augmented_dir = os.path.join(augmented_base, os.path.basename(os.path.dirname(file_path)))\n",
    "        os.makedirs(augmented_dir, exist_ok=True)\n",
    "\n",
    "        # Créer et sauvegarder des images augmentées\n",
    "        for i in range(num_augmentations):\n",
    "            it = datagen.flow(img_array, batch_size=1)\n",
    "            batch = next(it)\n",
    "            augmented_image = batch[0]\n",
    "            jpg_file_path = os.path.join(augmented_dir, f\"aug_{i}_{os.path.basename(file_path).replace('.npy', '.jpg')}\")\n",
    "            save_array_as_jpg(augmented_image, jpg_file_path)"
   ],
   "metadata": {
    "collapsed": false,
    "ExecuteTime": {
     "end_time": "2023-12-06T09:06:21.776392900Z",
     "start_time": "2023-12-06T09:06:21.761939100Z"
    }
   },
   "id": "e2d40175b2bc1c96"
  },
  {
   "cell_type": "code",
   "execution_count": 7,
   "outputs": [],
   "source": [
    "# Liste des chemins des fichiers spécifiques\n",
    "specific_files = [\n",
    "    'data/processed/test/dog/dog_IMG_0dde90cc4-4d5b-11ea-b58b-0242ac1c0002.npy',\n",
    "    'data/processed/test/ram/ram_IMG_02d73579a-4d61-11ea-b58b-0242ac1c0002.npy',\n",
    "    'data/processed/test/hare/hare_IMG_3bb24257e-4d5c-11ea-b58b-0242ac1c0002.npy'\n",
    "]\n",
    "\n",
    "# Dossier où sauvegarder les images augmentées\n",
    "augmented_dir = os.path.join(base_dir, 'analyse_data_aug')\n",
    "\n",
    "# Appliquer la data augmentation sur les fichiers spécifiques et sauvegarder en tant que JPG\n",
    "augment_specific_files_as_jpg(specific_files, augmented_dir)\n"
   ],
   "metadata": {
    "collapsed": false,
    "ExecuteTime": {
     "end_time": "2023-12-06T09:06:22.631370600Z",
     "start_time": "2023-12-06T09:06:21.776392900Z"
    }
   },
   "id": "12fd6e34a673581f"
  }
 ],
 "metadata": {
  "kernelspec": {
   "display_name": "Python 3",
   "language": "python",
   "name": "python3"
  },
  "language_info": {
   "codemirror_mode": {
    "name": "ipython",
    "version": 2
   },
   "file_extension": ".py",
   "mimetype": "text/x-python",
   "name": "python",
   "nbconvert_exporter": "python",
   "pygments_lexer": "ipython2",
   "version": "2.7.6"
  }
 },
 "nbformat": 4,
 "nbformat_minor": 5
}
