{
 "cells": [
  {
   "cell_type": "markdown",
   "id": "efd392ed",
   "metadata": {
    "papermill": {
     "duration": 0.008735,
     "end_time": "2022-11-27T17:46:33.645939",
     "exception": false,
     "start_time": "2022-11-27T17:46:33.637204",
     "status": "completed"
    },
    "tags": []
   },
   "source": [
    "This notebook is divided into the following sections."
   ]
  },
  {
   "cell_type": "markdown",
   "id": "3302eec7",
   "metadata": {
    "papermill": {
     "duration": 0.008177,
     "end_time": "2022-11-27T17:46:33.680602",
     "exception": false,
     "start_time": "2022-11-27T17:46:33.672425",
     "status": "completed"
    },
    "tags": []
   },
   "source": [
    "## 0. Import Libraries\n",
    "<div id=\"0\">\n",
    "</div>"
   ]
  },
  {
   "cell_type": "code",
   "execution_count": 75,
   "id": "0621a22c",
   "metadata": {
    "_cell_guid": "b1076dfc-b9ad-4769-8c92-a6c4dae69d19",
    "_uuid": "8f2839f25d086af736a60e9eeb907d3b93b6e0e5",
    "execution": {
     "iopub.execute_input": "2022-11-27T17:46:33.716979Z",
     "iopub.status.busy": "2022-11-27T17:46:33.715856Z",
     "iopub.status.idle": "2022-11-27T17:46:45.754715Z",
     "shell.execute_reply": "2022-11-27T17:46:45.753535Z"
    },
    "papermill": {
     "duration": 12.051367,
     "end_time": "2022-11-27T17:46:45.757425",
     "exception": false,
     "start_time": "2022-11-27T17:46:33.706058",
     "status": "completed"
    },
    "tags": [],
    "ExecuteTime": {
     "end_time": "2023-12-07T00:05:34.251327Z",
     "start_time": "2023-12-07T00:05:34.223603700Z"
    }
   },
   "outputs": [],
   "source": [
    "# Load Data\n",
    "import numpy as np\n",
    "\n",
    "# Data Visualisation\n",
    "import matplotlib.pyplot as plt\n",
    "\n",
    "# Model Training\n",
    "import tensorflow as tf\n",
    "from tensorflow.keras import utils\n",
    "from tensorflow.keras.optimizers import Adam\n",
    "from tensorflow.keras.models import Sequential\n",
    "from tensorflow.keras.layers import Dense, Dropout, Flatten, Conv2D, MaxPooling2D, BatchNormalization, SpatialDropout2D\n",
    "from tensorflow.keras.preprocessing.image import ImageDataGenerator\n",
    "from tensorflow.keras.regularizers import l2, l1_l2"
   ]
  },
  {
   "cell_type": "markdown",
   "id": "6898ceed",
   "metadata": {
    "papermill": {
     "duration": 0.008633,
     "end_time": "2022-11-27T17:46:45.775243",
     "exception": false,
     "start_time": "2022-11-27T17:46:45.766610",
     "status": "completed"
    },
    "tags": []
   },
   "source": [
    "A a GPU would speed up the training process \n"
   ]
  },
  {
   "cell_type": "code",
   "execution_count": 4,
   "id": "1a4ac3c8",
   "metadata": {
    "execution": {
     "iopub.execute_input": "2022-11-27T17:46:45.794022Z",
     "iopub.status.busy": "2022-11-27T17:46:45.793468Z",
     "iopub.status.idle": "2022-11-27T17:46:51.139485Z",
     "shell.execute_reply": "2022-11-27T17:46:51.138144Z"
    },
    "papermill": {
     "duration": 5.361571,
     "end_time": "2022-11-27T17:46:51.145233",
     "exception": false,
     "start_time": "2022-11-27T17:46:45.783662",
     "status": "completed"
    },
    "tags": [],
    "ExecuteTime": {
     "end_time": "2023-12-06T22:27:13.072625100Z",
     "start_time": "2023-12-06T22:27:12.764768800Z"
    }
   },
   "outputs": [
    {
     "name": "stdout",
     "output_type": "stream",
     "text": [
      "1 Physical GPUs, 1 Logical GPU\n"
     ]
    }
   ],
   "source": [
    "gpus = tf.config.experimental.list_physical_devices('GPU')\n",
    "if gpus:\n",
    "    try:\n",
    "        for gpu in gpus:\n",
    "            tf.config.experimental.set_memory_growth(gpu, True)\n",
    "        logical_gpus = tf.config.experimental.list_logical_devices('GPU')\n",
    "        print(f\"{len(gpus)} Physical GPUs, {len(logical_gpus)} Logical GPU\")\n",
    "    except RuntimeError as e:\n",
    "        print(e)\n",
    "else:\n",
    "    print(\"Pas de GPU trouvé\")"
   ]
  },
  {
   "cell_type": "markdown",
   "id": "b4575769",
   "metadata": {
    "papermill": {
     "duration": 0.013447,
     "end_time": "2022-11-27T17:46:51.172852",
     "exception": false,
     "start_time": "2022-11-27T17:46:51.159405",
     "status": "completed"
    },
    "tags": []
   },
   "source": [
    "## 1. Load Data\n",
    "<div id=\"1\">\n",
    "</div>"
   ]
  },
  {
   "cell_type": "markdown",
   "id": "e0f11665",
   "metadata": {
    "papermill": {
     "duration": 0.013277,
     "end_time": "2022-11-27T17:46:51.224263",
     "exception": false,
     "start_time": "2022-11-27T17:46:51.210986",
     "status": "completed"
    },
    "tags": []
   },
   "source": [
    "Define the data directories now."
   ]
  },
  {
   "cell_type": "code",
   "execution_count": 5,
   "id": "2e2844ce",
   "metadata": {
    "execution": {
     "iopub.execute_input": "2022-11-27T17:46:51.258574Z",
     "iopub.status.busy": "2022-11-27T17:46:51.257787Z",
     "iopub.status.idle": "2022-11-27T17:46:51.266821Z",
     "shell.execute_reply": "2022-11-27T17:46:51.265602Z"
    },
    "papermill": {
     "duration": 0.030793,
     "end_time": "2022-11-27T17:46:51.269034",
     "exception": false,
     "start_time": "2022-11-27T17:46:51.238241",
     "status": "completed"
    },
    "tags": [],
    "ExecuteTime": {
     "end_time": "2023-12-06T22:27:13.087666700Z",
     "start_time": "2023-12-06T22:27:12.779303400Z"
    }
   },
   "outputs": [],
   "source": [
    "train_dir = 'data/processed/train'\n",
    "test_dir =  'data/processed/test'"
   ]
  },
  {
   "cell_type": "code",
   "execution_count": 6,
   "id": "f92906ae",
   "metadata": {
    "execution": {
     "iopub.execute_input": "2022-11-27T17:46:51.410483Z",
     "iopub.status.busy": "2022-11-27T17:46:51.410209Z",
     "iopub.status.idle": "2022-11-27T17:51:37.747227Z",
     "shell.execute_reply": "2022-11-27T17:51:37.746050Z"
    },
    "papermill": {
     "duration": 286.359009,
     "end_time": "2022-11-27T17:51:37.759243",
     "exception": false,
     "start_time": "2022-11-27T17:46:51.400234",
     "status": "completed"
    },
    "tags": [],
    "ExecuteTime": {
     "end_time": "2023-12-06T22:27:14.186191500Z",
     "start_time": "2023-12-06T22:27:12.797930600Z"
    }
   },
   "outputs": [
    {
     "name": "stdout",
     "output_type": "stream",
     "text": [
      "Obtaining images of bird ...\n",
      "Obtaining images of boar ...\n",
      "Obtaining images of dog ...\n",
      "Obtaining images of dragon ...\n",
      "Obtaining images of hare ...\n",
      "Obtaining images of horse ...\n",
      "Obtaining images of monkey ...\n",
      "Obtaining images of ox ...\n",
      "Obtaining images of ram ...\n",
      "Obtaining images of rat ...\n",
      "Obtaining images of snake ...\n",
      "Obtaining images of tiger ...\n",
      "Obtaining images of zero ...\n",
      "Obtaining images of bird ...\n",
      "Obtaining images of boar ...\n",
      "Obtaining images of dog ...\n",
      "Obtaining images of dragon ...\n",
      "Obtaining images of hare ...\n",
      "Obtaining images of horse ...\n",
      "Obtaining images of monkey ...\n",
      "Obtaining images of ox ...\n",
      "Obtaining images of ram ...\n",
      "Obtaining images of rat ...\n",
      "Obtaining images of snake ...\n",
      "Obtaining images of tiger ...\n",
      "Obtaining images of zero ...\n",
      "==== Fini ! ====\n"
     ]
    }
   ],
   "source": [
    "import random\n",
    "\n",
    "def get_data(data_dir):\n",
    "    images = []\n",
    "    labels = []\n",
    "    \n",
    "    dir_list = os.listdir(data_dir)\n",
    "    for i in range(len(dir_list)):\n",
    "        print(\"Obtaining images of\", dir_list[i], \"...\")\n",
    "        for image in os.listdir(data_dir + \"/\" + dir_list[i]):\n",
    "            img = np.load(data_dir + '/' + dir_list[i] + '/' + image)\n",
    "            images.append(img)\n",
    "            labels.append(i)\n",
    "\n",
    "    return images, labels\n",
    "        \n",
    "X_train, y_train = get_data(train_dir)\n",
    "X_test, y_test = get_data(test_dir)\n",
    "\n",
    "print(\"==== Fini ! ====\")"
   ]
  },
  {
   "cell_type": "markdown",
   "id": "e3460824",
   "metadata": {
    "papermill": {
     "duration": 0.009463,
     "end_time": "2022-11-27T17:51:37.778495",
     "exception": false,
     "start_time": "2022-11-27T17:51:37.769032",
     "status": "completed"
    },
    "tags": []
   },
   "source": [
    "verify the size of both X and y, to ensure all the data is read."
   ]
  },
  {
   "cell_type": "code",
   "execution_count": 7,
   "id": "2702d45b",
   "metadata": {
    "execution": {
     "iopub.execute_input": "2022-11-27T17:51:37.799594Z",
     "iopub.status.busy": "2022-11-27T17:51:37.799259Z",
     "iopub.status.idle": "2022-11-27T17:51:37.804342Z",
     "shell.execute_reply": "2022-11-27T17:51:37.803410Z"
    },
    "papermill": {
     "duration": 0.018686,
     "end_time": "2022-11-27T17:51:37.806830",
     "exception": false,
     "start_time": "2022-11-27T17:51:37.788144",
     "status": "completed"
    },
    "tags": [],
    "ExecuteTime": {
     "end_time": "2023-12-06T22:27:14.199229800Z",
     "start_time": "2023-12-06T22:27:14.184688700Z"
    }
   },
   "outputs": [
    {
     "name": "stdout",
     "output_type": "stream",
     "text": [
      "1813 1813\n",
      "63 63\n"
     ]
    }
   ],
   "source": [
    "print(len(X_train), len(y_train))\n",
    "print(len(X_test), len(y_test))"
   ]
  },
  {
   "cell_type": "markdown",
   "id": "17e5fe23",
   "metadata": {
    "papermill": {
     "duration": 0.009684,
     "end_time": "2022-11-27T17:51:37.826639",
     "exception": false,
     "start_time": "2022-11-27T17:51:37.816955",
     "status": "completed"
    },
    "tags": []
   },
   "source": [
    "## 2. Data Visualisation\n",
    "<div id=\"2\">\n",
    "</div>\n",
    "\n",
    "Before preprocessing our data,  explore and gain insight into the images we are dealing with. For simplicity, load one sample image from each class."
   ]
  },
  {
   "cell_type": "code",
   "execution_count": 8,
   "id": "16f5f4a0",
   "metadata": {
    "execution": {
     "iopub.execute_input": "2022-11-27T17:51:37.867445Z",
     "iopub.status.busy": "2022-11-27T17:51:37.865797Z",
     "iopub.status.idle": "2022-11-27T17:51:37.871761Z",
     "shell.execute_reply": "2022-11-27T17:51:37.870906Z"
    },
    "papermill": {
     "duration": 0.018396,
     "end_time": "2022-11-27T17:51:37.873756",
     "exception": false,
     "start_time": "2022-11-27T17:51:37.855360",
     "status": "completed"
    },
    "tags": [],
    "ExecuteTime": {
     "end_time": "2023-12-06T22:27:14.257891100Z",
     "start_time": "2023-12-06T22:27:14.201249300Z"
    }
   },
   "outputs": [],
   "source": [
    "classes = ['bird', 'boar', 'dog', 'dragon', 'hare', 'horse', 'monkey', 'ox', 'ram', 'rat', 'snake', \n",
    "           'tiger', 'zero']"
   ]
  },
  {
   "cell_type": "markdown",
   "id": "c4d504f8",
   "metadata": {
    "papermill": {
     "duration": 0.016056,
     "end_time": "2022-11-27T17:51:41.497969",
     "exception": false,
     "start_time": "2022-11-27T17:51:41.481913",
     "status": "completed"
    },
    "tags": []
   },
   "source": [
    "## 3. Data Preprocessing\n",
    "<div id=\"3\">\n",
    "</div>\n",
    "\n",
    "Before feeding the data to our model, we convert into numpy arrays and normalise the values by dividing the image pixel values by 255. \n",
    "Then, we divide our training data into training and testing sets to be used by the model."
   ]
  },
  {
   "cell_type": "code",
   "execution_count": 1,
   "id": "847c888c",
   "metadata": {
    "execution": {
     "iopub.execute_input": "2022-11-27T17:51:41.569949Z",
     "iopub.status.busy": "2022-11-27T17:51:41.565292Z",
     "iopub.status.idle": "2022-11-27T17:51:42.862786Z",
     "shell.execute_reply": "2022-11-27T17:51:42.861769Z"
    },
    "papermill": {
     "duration": 1.317743,
     "end_time": "2022-11-27T17:51:42.865190",
     "exception": false,
     "start_time": "2022-11-27T17:51:41.547447",
     "status": "completed"
    },
    "tags": [],
    "ExecuteTime": {
     "end_time": "2023-12-07T11:15:54.183739Z",
     "start_time": "2023-12-07T11:15:53.616728100Z"
    }
   },
   "outputs": [
    {
     "ename": "NameError",
     "evalue": "name 'X_train' is not defined",
     "output_type": "error",
     "traceback": [
      "\u001B[1;31m---------------------------------------------------------------------------\u001B[0m",
      "\u001B[1;31mNameError\u001B[0m                                 Traceback (most recent call last)",
      "Cell \u001B[1;32mIn[1], line 8\u001B[0m\n\u001B[0;32m      5\u001B[0m     label_encoded_y \u001B[38;5;241m=\u001B[39m utils\u001B[38;5;241m.\u001B[39mto_categorical(y)\n\u001B[0;32m      6\u001B[0m     \u001B[38;5;28;01mreturn\u001B[39;00m normalised_X, label_encoded_y\n\u001B[1;32m----> 8\u001B[0m x_train, y_train \u001B[38;5;241m=\u001B[39m preprocess_data(\u001B[43mX_train\u001B[49m, y_train)\n\u001B[0;32m      9\u001B[0m x_test, y_test \u001B[38;5;241m=\u001B[39m preprocess_data(X_test, y_test)\n",
      "\u001B[1;31mNameError\u001B[0m: name 'X_train' is not defined"
     ]
    }
   ],
   "source": [
    "def preprocess_data(X, y):\n",
    "    np_X = np.array(X)\n",
    "    normalised_X = np_X.astype('float32')/255.0\n",
    "    \n",
    "    label_encoded_y = utils.to_categorical(y)\n",
    "    return normalised_X, label_encoded_y\n",
    "\n",
    "x_train, y_train = preprocess_data(X_train, y_train)\n",
    "x_test, y_test = preprocess_data(X_test, y_test)\n"
   ]
  },
  {
   "cell_type": "markdown",
   "id": "9098123a",
   "metadata": {
    "papermill": {
     "duration": 0.010836,
     "end_time": "2022-11-27T17:51:42.994035",
     "exception": false,
     "start_time": "2022-11-27T17:51:42.983199",
     "status": "completed"
    },
    "tags": []
   },
   "source": [
    "confirm the size of training and testing data."
   ]
  },
  {
   "cell_type": "code",
   "execution_count": 11,
   "id": "55fd3ff0",
   "metadata": {
    "execution": {
     "iopub.execute_input": "2022-11-27T17:51:43.018116Z",
     "iopub.status.busy": "2022-11-27T17:51:43.017820Z",
     "iopub.status.idle": "2022-11-27T17:51:43.023390Z",
     "shell.execute_reply": "2022-11-27T17:51:43.022412Z"
    },
    "papermill": {
     "duration": 0.020662,
     "end_time": "2022-11-27T17:51:43.025791",
     "exception": false,
     "start_time": "2022-11-27T17:51:43.005129",
     "status": "completed"
    },
    "tags": [],
    "ExecuteTime": {
     "end_time": "2023-12-06T22:27:16.196942200Z",
     "start_time": "2023-12-06T22:27:16.178391500Z"
    }
   },
   "outputs": [
    {
     "name": "stdout",
     "output_type": "stream",
     "text": [
      "Training data x: (1813, 224, 224, 3)\n",
      "Training data y: (1813, 13)\n",
      "Test data x: (63, 224, 224, 3)\n",
      "Test data y: (63, 13)\n"
     ]
    }
   ],
   "source": [
    "print(\"Training data x:\", x_train.shape)\n",
    "print(\"Training data y:\", y_train.shape)\n",
    "print(\"Test data x:\", x_test.shape)\n",
    "print(\"Test data y:\", y_test.shape)"
   ]
  },
  {
   "cell_type": "markdown",
   "id": "b72f4b85",
   "metadata": {
    "papermill": {
     "duration": 0.011288,
     "end_time": "2022-11-27T17:51:43.048777",
     "exception": false,
     "start_time": "2022-11-27T17:51:43.037489",
     "status": "completed"
    },
    "tags": []
   },
   "source": [
    "## 4. Define CNN Model\n",
    "<div id=\"4\">\n",
    "</div>"
   ]
  },
  {
   "cell_type": "markdown",
   "id": "71a9ed7f",
   "metadata": {
    "papermill": {
     "duration": 0.011319,
     "end_time": "2022-11-27T17:51:43.071698",
     "exception": false,
     "start_time": "2022-11-27T17:51:43.060379",
     "status": "completed"
    },
    "tags": []
   },
   "source": [
    "Next, we define the architecture of our custom CNN Model. "
   ]
  },
  {
   "cell_type": "code",
   "execution_count": 12,
   "id": "3ae06c5c",
   "metadata": {
    "execution": {
     "iopub.execute_input": "2022-11-27T17:51:43.118933Z",
     "iopub.status.busy": "2022-11-27T17:51:43.118644Z",
     "iopub.status.idle": "2022-11-27T17:51:43.122982Z",
     "shell.execute_reply": "2022-11-27T17:51:43.121893Z"
    },
    "papermill": {
     "duration": 0.01919,
     "end_time": "2022-11-27T17:51:43.125119",
     "exception": false,
     "start_time": "2022-11-27T17:51:43.105929",
     "status": "completed"
    },
    "tags": [],
    "ExecuteTime": {
     "end_time": "2023-12-06T22:27:16.214495600Z",
     "start_time": "2023-12-06T22:27:16.193429200Z"
    }
   },
   "outputs": [],
   "source": [
    "classes = 13\n",
    "batch = 32\n",
    "learning_rate = 0.001"
   ]
  },
  {
   "cell_type": "markdown",
   "id": "bcf49350",
   "metadata": {
    "papermill": {
     "duration": 0.011264,
     "end_time": "2022-11-27T17:51:43.147589",
     "exception": false,
     "start_time": "2022-11-27T17:51:43.136325",
     "status": "completed"
    },
    "tags": []
   },
   "source": [
    "For our model, initialize a Keras Sequential model. \n",
    "\n",
    "The defined model is a 4 layer deep CNN model. Batch normalisation and dropout layers have been added to avoid overfitting on the training set and perform regularization.\n",
    "The three CNN layers have been flattened out and connected to a dense layer before performing classification using the softmax activation function.\n",
    "\n",
    "Try to maximum validation accuracy."
   ]
  },
  {
   "cell_type": "code",
   "execution_count": 76,
   "outputs": [],
   "source": [
    "# pretrained model\n",
    "# base_model = tf.keras.applications.resnet50.ResNet50(weights='imagenet', include_top=False, input_shape=(128, 128, 3))\n",
    "# base_model = tf.keras.applications.vgg16.VGG16(weights='imagenet', include_top=False, input_shape=(224, 224, 3))\n",
    "base_model = tf.keras.applications.xception.Xception(weights='imagenet', include_top=False, input_shape=(224, 224, 3))\n",
    "\n",
    "\n",
    "# Freeze the convolutional layers\n",
    "# for layer in base_model.layers:\n",
    "#     layer.trainable = False\n",
    "\n",
    "# Freeze the convolutional layers but not all\n",
    "for layer in base_model.layers[:-4]:\n",
    "    layer.trainable = False\n",
    "for layer in base_model.layers[-4:]:\n",
    "    layer.trainable = True\n",
    "\n",
    "\n",
    "\n",
    "\n",
    "# Create a custom model\n",
    "model2 = Sequential()\n",
    "model2.add(base_model)\n",
    "model2.add(Flatten())\n",
    "\n",
    "model2.add(BatchNormalization())\n",
    "model2.add(Dropout(0.3))\n",
    "model2.add(Dense(128, activation='relu', kernel_regularizer=l2(0.001)))\n",
    "\n",
    "model2.add(BatchNormalization())\n",
    "model2.add(Dropout(0.3))\n",
    "model2.add(Dense(classes, activation='softmax'))"
   ],
   "metadata": {
    "collapsed": false,
    "ExecuteTime": {
     "end_time": "2023-12-07T00:05:42.841120100Z",
     "start_time": "2023-12-07T00:05:40.300073700Z"
    }
   },
   "id": "d7a518812f84c7c7"
  },
  {
   "cell_type": "code",
   "execution_count": 56,
   "outputs": [
    {
     "name": "stdout",
     "output_type": "stream",
     "text": [
      "Model: \"sequential_5\"\n",
      "_________________________________________________________________\n",
      " Layer (type)                Output Shape              Param #   \n",
      "=================================================================\n",
      " xception (Functional)       (None, 7, 7, 2048)        20861480  \n",
      "                                                                 \n",
      " spatial_dropout2d_1 (Spatia  (None, 7, 7, 2048)       0         \n",
      " lDropout2D)                                                     \n",
      "                                                                 \n",
      " flatten_5 (Flatten)         (None, 100352)            0         \n",
      "                                                                 \n",
      " batch_normalization_29 (Bat  (None, 100352)           401408    \n",
      " chNormalization)                                                \n",
      "                                                                 \n",
      " dropout_9 (Dropout)         (None, 100352)            0         \n",
      "                                                                 \n",
      " dense_10 (Dense)            (None, 128)               12845184  \n",
      "                                                                 \n",
      " batch_normalization_30 (Bat  (None, 128)              512       \n",
      " chNormalization)                                                \n",
      "                                                                 \n",
      " dropout_10 (Dropout)        (None, 128)               0         \n",
      "                                                                 \n",
      " dense_11 (Dense)            (None, 13)                1677      \n",
      "                                                                 \n",
      "=================================================================\n",
      "Total params: 34,110,261\n",
      "Trainable params: 16,211,469\n",
      "Non-trainable params: 17,898,792\n",
      "_________________________________________________________________\n"
     ]
    }
   ],
   "source": [
    "model2.summary()"
   ],
   "metadata": {
    "collapsed": false,
    "ExecuteTime": {
     "end_time": "2023-12-06T23:31:17.866723900Z",
     "start_time": "2023-12-06T23:31:17.792492700Z"
    }
   },
   "id": "796e019583126066"
  },
  {
   "cell_type": "markdown",
   "id": "05945b7f",
   "metadata": {
    "papermill": {
     "duration": 0.01154,
     "end_time": "2022-11-27T17:51:43.770990",
     "exception": false,
     "start_time": "2022-11-27T17:51:43.759450",
     "status": "completed"
    },
    "tags": []
   },
   "source": [
    "Adam is used as the optimizer\n",
    "Since this is a multiclass classification, categorical crossentropy is chosen as the loss function. The model is trained on the metric of accuracy."
   ]
  },
  {
   "cell_type": "code",
   "execution_count": 57,
   "id": "bc902ca7",
   "metadata": {
    "execution": {
     "iopub.execute_input": "2022-11-27T17:51:43.795562Z",
     "iopub.status.busy": "2022-11-27T17:51:43.794737Z",
     "iopub.status.idle": "2022-11-27T17:51:43.806633Z",
     "shell.execute_reply": "2022-11-27T17:51:43.805790Z"
    },
    "papermill": {
     "duration": 0.02648,
     "end_time": "2022-11-27T17:51:43.808793",
     "exception": false,
     "start_time": "2022-11-27T17:51:43.782313",
     "status": "completed"
    },
    "tags": [],
    "ExecuteTime": {
     "end_time": "2023-12-06T23:31:17.867223700Z",
     "start_time": "2023-12-06T23:31:17.833094600Z"
    }
   },
   "outputs": [],
   "source": [
    "adam = Adam(learning_rate)\n",
    "model2.compile(optimizer=adam, loss='categorical_crossentropy', metrics=['accuracy'])"
   ]
  },
  {
   "cell_type": "markdown",
   "id": "c5d2f75d",
   "metadata": {
    "papermill": {
     "duration": 0.011133,
     "end_time": "2022-11-27T17:51:43.831232",
     "exception": false,
     "start_time": "2022-11-27T17:51:43.820099",
     "status": "completed"
    },
    "tags": []
   },
   "source": [
    "The summary of our CNN architecture can be seen below. \n"
   ]
  },
  {
   "cell_type": "code",
   "execution_count": 69,
   "outputs": [],
   "source": [
    "# Paramètres de data augmentation\n",
    "train_datagen = ImageDataGenerator(\n",
    "    width_shift_range=0.1,\n",
    "    height_shift_range=0.1,\n",
    "    zoom_range=0.15,\n",
    "    # brightness_range=[0]\n",
    ")\n",
    "validation_datagen = ImageDataGenerator()\n",
    "\n",
    "train_generator = train_datagen.flow(\n",
    "    x_train,\n",
    "    y_train,\n",
    "    batch_size=batch\n",
    ")\n",
    "\n",
    "validation_generator = validation_datagen.flow(\n",
    "    x_test,\n",
    "    y_test,\n",
    "    batch_size=batch\n",
    ")"
   ],
   "metadata": {
    "collapsed": false,
    "ExecuteTime": {
     "end_time": "2023-12-06T23:50:19.283135200Z",
     "start_time": "2023-12-06T23:50:19.255977200Z"
    }
   },
   "id": "c6b89dd38f12e349"
  },
  {
   "cell_type": "markdown",
   "id": "a512d7ad",
   "metadata": {
    "papermill": {
     "duration": 0.012828,
     "end_time": "2022-11-27T17:51:43.894706",
     "exception": false,
     "start_time": "2022-11-27T17:51:43.881878",
     "status": "completed"
    },
    "tags": []
   },
   "source": [
    "## 5. Train Model\n",
    "<div id=\"5\">\n",
    "</div>"
   ]
  },
  {
   "cell_type": "code",
   "execution_count": 70,
   "outputs": [],
   "source": [
    "from tensorflow.keras.callbacks import EarlyStopping, ReduceLROnPlateau\n",
    "\n",
    "early_stopping = EarlyStopping(\n",
    "    monitor='val_loss',\n",
    "    patience=4,  # Nombre d'époques sans amélioration après lequel l'entraînement sera arrêté\n",
    "    restore_best_weights=True\n",
    ")\n",
    "\n",
    "reduce_lr = ReduceLROnPlateau(\n",
    "    monitor='val_loss',\n",
    "    factor=0.2,  # Facteur de réduction du taux d'apprentissage\n",
    "    patience=3,  # Nombre d'époques avec aucune amélioration après lequel le taux d'apprentissage sera réduit\n",
    "    min_lr=0.00001  # Taux d'apprentissage minimal\n",
    ")"
   ],
   "metadata": {
    "collapsed": false,
    "ExecuteTime": {
     "end_time": "2023-12-06T23:50:19.930838Z",
     "start_time": "2023-12-06T23:50:19.906214200Z"
    }
   },
   "id": "d58dc6515f33236e"
  },
  {
   "cell_type": "code",
   "execution_count": 71,
   "id": "2f5a4058",
   "metadata": {
    "execution": {
     "iopub.execute_input": "2022-11-27T17:51:43.983137Z",
     "iopub.status.busy": "2022-11-27T17:51:43.982869Z",
     "iopub.status.idle": "2022-11-27T18:02:27.260258Z",
     "shell.execute_reply": "2022-11-27T18:02:27.259001Z"
    },
    "papermill": {
     "duration": 643.917998,
     "end_time": "2022-11-27T18:02:27.887839",
     "exception": false,
     "start_time": "2022-11-27T17:51:43.969841",
     "status": "completed"
    },
    "tags": [],
    "ExecuteTime": {
     "end_time": "2023-12-06T23:52:23.785725400Z",
     "start_time": "2023-12-06T23:50:20.206501800Z"
    }
   },
   "outputs": [
    {
     "name": "stdout",
     "output_type": "stream",
     "text": [
      "Epoch 1/25\n",
      "57/57 [==============================] - 15s 262ms/step - loss: 0.3407 - accuracy: 0.9972 - val_loss: 1.2482 - val_accuracy: 0.6984 - lr: 1.0000e-05\n",
      "Epoch 2/25\n",
      "57/57 [==============================] - 15s 265ms/step - loss: 0.3175 - accuracy: 0.9978 - val_loss: 1.2345 - val_accuracy: 0.6667 - lr: 1.0000e-05\n",
      "Epoch 3/25\n",
      "57/57 [==============================] - 15s 261ms/step - loss: 0.2989 - accuracy: 0.9983 - val_loss: 1.2176 - val_accuracy: 0.6825 - lr: 1.0000e-05\n",
      "Epoch 4/25\n",
      "57/57 [==============================] - 15s 260ms/step - loss: 0.2831 - accuracy: 0.9972 - val_loss: 1.1971 - val_accuracy: 0.7302 - lr: 1.0000e-05\n",
      "Epoch 5/25\n",
      "57/57 [==============================] - 15s 260ms/step - loss: 0.2722 - accuracy: 0.9967 - val_loss: 1.2261 - val_accuracy: 0.7619 - lr: 1.0000e-05\n",
      "Epoch 6/25\n",
      "57/57 [==============================] - 15s 258ms/step - loss: 0.2614 - accuracy: 0.9978 - val_loss: 1.2233 - val_accuracy: 0.7302 - lr: 1.0000e-05\n",
      "Epoch 7/25\n",
      "57/57 [==============================] - 17s 290ms/step - loss: 0.2476 - accuracy: 0.9983 - val_loss: 1.2013 - val_accuracy: 0.6984 - lr: 1.0000e-05\n",
      "Epoch 8/25\n",
      "57/57 [==============================] - 17s 297ms/step - loss: 0.2320 - accuracy: 0.9972 - val_loss: 1.2277 - val_accuracy: 0.7143 - lr: 1.0000e-05\n"
     ]
    }
   ],
   "source": [
    "# history = model.fit(train_generator, validation_data=validation_generator, epochs=epochs, shuffle = True, verbose=1)\n",
    "\n",
    "# history = model.fit(x_train, y_train, validation_data=(x_test, y_test), epochs=epochs, shuffle = True, verbose=1)\n",
    "\n",
    "history = model2.fit(train_generator, validation_data=validation_generator, epochs=25, shuffle = True, verbose=1,callbacks=[early_stopping, reduce_lr]) #Compilation avec un taux d'apprentissage adaptatif\n",
    "\n",
    "# history = model2.fit(x_train, y_train, validation_data=(x_test, y_test), epochs=10, shuffle = True, verbose=1)"
   ]
  },
  {
   "cell_type": "markdown",
   "id": "adcbac30",
   "metadata": {
    "papermill": {
     "duration": 0.65208,
     "end_time": "2022-11-27T18:02:29.131395",
     "exception": false,
     "start_time": "2022-11-27T18:02:28.479315",
     "status": "completed"
    },
    "tags": []
   },
   "source": [
    "## 6. Evaluate Model\n",
    "<div id=\"6\">\n",
    "</div>"
   ]
  },
  {
   "cell_type": "markdown",
   "id": "ed2ffaa8",
   "metadata": {
    "papermill": {
     "duration": 0.62256,
     "end_time": "2022-11-27T18:02:30.323084",
     "exception": false,
     "start_time": "2022-11-27T18:02:29.700524",
     "status": "completed"
    },
    "tags": []
   },
   "source": [
    "evaluate on the test data."
   ]
  },
  {
   "cell_type": "code",
   "execution_count": 72,
   "id": "88b20215",
   "metadata": {
    "execution": {
     "iopub.execute_input": "2022-11-27T18:02:31.583170Z",
     "iopub.status.busy": "2022-11-27T18:02:31.582786Z",
     "iopub.status.idle": "2022-11-27T18:02:31.719759Z",
     "shell.execute_reply": "2022-11-27T18:02:31.717612Z"
    },
    "papermill": {
     "duration": 0.827317,
     "end_time": "2022-11-27T18:02:31.722374",
     "exception": false,
     "start_time": "2022-11-27T18:02:30.895057",
     "status": "completed"
    },
    "tags": [],
    "ExecuteTime": {
     "end_time": "2023-12-06T23:52:27.655301400Z",
     "start_time": "2023-12-06T23:52:23.782718Z"
    }
   },
   "outputs": [
    {
     "name": "stdout",
     "output_type": "stream",
     "text": [
      "2/2 [==============================] - 0s 110ms/step - loss: 1.1971 - accuracy: 0.7302\n",
      "Test accuracy: 0.7301587462425232\n",
      "Test loss: 1.1971435546875\n"
     ]
    }
   ],
   "source": [
    "test_loss, test_acc = model2.evaluate(x_test, y_test)\n",
    "print('Test accuracy:', test_acc)\n",
    "print('Test loss:', test_loss)"
   ]
  },
  {
   "cell_type": "code",
   "execution_count": 73,
   "id": "62d80543",
   "metadata": {
    "execution": {
     "iopub.execute_input": "2022-11-27T18:02:34.389913Z",
     "iopub.status.busy": "2022-11-27T18:02:34.389540Z",
     "iopub.status.idle": "2022-11-27T18:02:34.713193Z",
     "shell.execute_reply": "2022-11-27T18:02:34.712286Z"
    },
    "papermill": {
     "duration": 0.901996,
     "end_time": "2022-11-27T18:02:34.715504",
     "exception": false,
     "start_time": "2022-11-27T18:02:33.813508",
     "status": "completed"
    },
    "tags": [],
    "ExecuteTime": {
     "end_time": "2023-12-06T23:52:27.963309700Z",
     "start_time": "2023-12-06T23:52:27.655799600Z"
    }
   },
   "outputs": [
    {
     "data": {
      "text/plain": "<Figure size 1200x1200 with 2 Axes>",
      "image/png": "[encoded data removed]"
     },
     "metadata": {},
     "output_type": "display_data"
    }
   ],
   "source": [
    "def plot_results(model):\n",
    "\n",
    "    plt.figure(figsize=(12, 12))\n",
    "    plt.subplot(3, 2, 1)\n",
    "    plt.plot(history.history['accuracy'], label = 'train_accuracy')\n",
    "    plt.plot(history.history['val_accuracy'], label = 'val_accuracy')\n",
    "    plt.xlabel('epoch')\n",
    "    plt.ylabel('accuracy')\n",
    "    plt.legend()\n",
    "    plt.subplot(3, 2, 2)\n",
    "    plt.plot(history.history['loss'], label = 'train_loss')\n",
    "    plt.plot(history.history['val_loss'], label = 'val_loss')\n",
    "    plt.xlabel('epoch')\n",
    "    plt.ylabel('loss')\n",
    "    plt.legend()\n",
    "    plt.show()\n",
    "\n",
    "\n",
    "    \n",
    "plot_results(model2)"
   ]
  },
  {
   "cell_type": "code",
   "execution_count": 74,
   "id": "3d9ee6c9",
   "metadata": {
    "execution": {
     "iopub.execute_input": "2022-11-27T18:02:37.103782Z",
     "iopub.status.busy": "2022-11-27T18:02:37.103342Z",
     "iopub.status.idle": "2022-11-27T18:02:41.398965Z",
     "shell.execute_reply": "2022-11-27T18:02:41.397881Z"
    },
    "papermill": {
     "duration": 4.881224,
     "end_time": "2022-11-27T18:02:41.407420",
     "exception": false,
     "start_time": "2022-11-27T18:02:36.526196",
     "status": "completed"
    },
    "tags": [],
    "ExecuteTime": {
     "end_time": "2023-12-06T23:59:24.854939100Z",
     "start_time": "2023-12-06T23:59:22.955071900Z"
    }
   },
   "outputs": [],
   "source": [
    "import os\n",
    "\n",
    "model_dir = \"model\"\n",
    "if not os.path.exists(model_dir):\n",
    "    os.makedirs(model_dir)\n",
    "    \n",
    "model2.save(\"model/xception.keras\")"
   ]
  },
  {
   "cell_type": "code",
   "execution_count": null,
   "outputs": [],
   "source": [],
   "metadata": {
    "collapsed": false,
    "ExecuteTime": {
     "start_time": "2023-12-06T22:28:19.718463700Z"
    }
   },
   "id": "505aeab185923cdd"
  }
 ],
 "metadata": {
  "kernelspec": {
   "display_name": "Python 3",
   "language": "python",
   "name": "python3"
  },
  "language_info": {
   "codemirror_mode": {
    "name": "ipython",
    "version": 3
   },
   "file_extension": ".py",
   "mimetype": "text/x-python",
   "name": "python",
   "nbconvert_exporter": "python",
   "pygments_lexer": "ipython3",
   "version": "3.7.12"
  },
  "papermill": {
   "default_parameters": {},
   "duration": 982.677864,
   "end_time": "2022-11-27T18:02:45.259038",
   "environment_variables": {},
   "exception": null,
   "input_path": "__notebook__.ipynb",
   "output_path": "__notebook__.ipynb",
   "parameters": {},
   "start_time": "2022-11-27T17:46:22.581174",
   "version": "2.3.4"
  }
 },
 "nbformat": 4,
 "nbformat_minor": 5
}
